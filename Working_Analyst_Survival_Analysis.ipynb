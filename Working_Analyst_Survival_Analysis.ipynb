{
  "nbformat": 4,
  "nbformat_minor": 0,
  "metadata": {
    "colab": {
      "provenance": [],
      "collapsed_sections": [
        "1GemcWxm9RFJ",
        "pVXNKxrbgido",
        "tXoIyft8mQV2"
      ],
      "include_colab_link": true
    },
    "kernelspec": {
      "name": "python3",
      "display_name": "Python 3"
    },
    "language_info": {
      "name": "python"
    }
  },
  "cells": [
    {
      "cell_type": "markdown",
      "metadata": {
        "id": "view-in-github",
        "colab_type": "text"
      },
      "source": [
        "<a href=\"https://colab.research.google.com/github/RYU-MCFLY/-analyst_survival_public/blob/main/Working_Analyst_Survival_Analysis.ipynb\" target=\"_parent\"><img src=\"https://colab.research.google.com/assets/colab-badge.svg\" alt=\"Open In Colab\"/></a>"
      ]
    },
    {
      "cell_type": "code",
      "metadata": {
        "id": "xbSj8jGIwu4p",
        "colab": {
          "base_uri": "https://localhost:8080/"
        },
        "outputId": "ca52c904-8e5c-4d28-e292-1c5fc589ec68"
      },
      "source": [
        "# Puede necesitar instalar alguna de estas librerías, solo descomentenlas a necesidad\n",
        "\n",
        "!pip install lifelines"
      ],
      "execution_count": 1,
      "outputs": [
        {
          "output_type": "stream",
          "name": "stdout",
          "text": [
            "Looking in indexes: https://pypi.org/simple, https://us-python.pkg.dev/colab-wheels/public/simple/\n",
            "Collecting lifelines\n",
            "  Downloading lifelines-0.27.4-py3-none-any.whl (349 kB)\n",
            "\u001b[K     |████████████████████████████████| 349 kB 7.5 MB/s \n",
            "\u001b[?25hRequirement already satisfied: scipy>=1.2.0 in /usr/local/lib/python3.7/dist-packages (from lifelines) (1.7.3)\n",
            "Collecting autograd-gamma>=0.3\n",
            "  Downloading autograd-gamma-0.5.0.tar.gz (4.0 kB)\n",
            "Requirement already satisfied: matplotlib>=3.0 in /usr/local/lib/python3.7/dist-packages (from lifelines) (3.2.2)\n",
            "Requirement already satisfied: autograd>=1.5 in /usr/local/lib/python3.7/dist-packages (from lifelines) (1.5)\n",
            "Requirement already satisfied: numpy>=1.14.0 in /usr/local/lib/python3.7/dist-packages (from lifelines) (1.21.6)\n",
            "Requirement already satisfied: pandas>=1.0.0 in /usr/local/lib/python3.7/dist-packages (from lifelines) (1.3.5)\n",
            "Collecting formulaic>=0.2.2\n",
            "  Downloading formulaic-0.5.2-py3-none-any.whl (77 kB)\n",
            "\u001b[K     |████████████████████████████████| 77 kB 5.8 MB/s \n",
            "\u001b[?25hRequirement already satisfied: future>=0.15.2 in /usr/local/lib/python3.7/dist-packages (from autograd>=1.5->lifelines) (0.16.0)\n",
            "Collecting typing-extensions>=4.2.0\n",
            "  Downloading typing_extensions-4.4.0-py3-none-any.whl (26 kB)\n",
            "Requirement already satisfied: cached-property>=1.3.0 in /usr/local/lib/python3.7/dist-packages (from formulaic>=0.2.2->lifelines) (1.5.2)\n",
            "Collecting graphlib-backport>=1.0.0\n",
            "  Downloading graphlib_backport-1.0.3-py3-none-any.whl (5.1 kB)\n",
            "Requirement already satisfied: wrapt>=1.0 in /usr/local/lib/python3.7/dist-packages (from formulaic>=0.2.2->lifelines) (1.14.1)\n",
            "Requirement already satisfied: astor>=0.8 in /usr/local/lib/python3.7/dist-packages (from formulaic>=0.2.2->lifelines) (0.8.1)\n",
            "Collecting interface-meta>=1.2.0\n",
            "  Downloading interface_meta-1.3.0-py3-none-any.whl (14 kB)\n",
            "Requirement already satisfied: python-dateutil>=2.1 in /usr/local/lib/python3.7/dist-packages (from matplotlib>=3.0->lifelines) (2.8.2)\n",
            "Requirement already satisfied: cycler>=0.10 in /usr/local/lib/python3.7/dist-packages (from matplotlib>=3.0->lifelines) (0.11.0)\n",
            "Requirement already satisfied: pyparsing!=2.0.4,!=2.1.2,!=2.1.6,>=2.0.1 in /usr/local/lib/python3.7/dist-packages (from matplotlib>=3.0->lifelines) (3.0.9)\n",
            "Requirement already satisfied: kiwisolver>=1.0.1 in /usr/local/lib/python3.7/dist-packages (from matplotlib>=3.0->lifelines) (1.4.4)\n",
            "Requirement already satisfied: pytz>=2017.3 in /usr/local/lib/python3.7/dist-packages (from pandas>=1.0.0->lifelines) (2022.6)\n",
            "Requirement already satisfied: six>=1.5 in /usr/local/lib/python3.7/dist-packages (from python-dateutil>=2.1->matplotlib>=3.0->lifelines) (1.15.0)\n",
            "Building wheels for collected packages: autograd-gamma\n",
            "  Building wheel for autograd-gamma (setup.py) ... \u001b[?25l\u001b[?25hdone\n",
            "  Created wheel for autograd-gamma: filename=autograd_gamma-0.5.0-py3-none-any.whl size=4048 sha256=047c544ab3c565ab26de609d7164d44fbb8e9439cecd23fe65983b73ed124963\n",
            "  Stored in directory: /root/.cache/pip/wheels/9f/01/ee/1331593abb5725ff7d8c1333aee93a50a1c29d6ddda9665c9f\n",
            "Successfully built autograd-gamma\n",
            "Installing collected packages: typing-extensions, interface-meta, graphlib-backport, formulaic, autograd-gamma, lifelines\n",
            "  Attempting uninstall: typing-extensions\n",
            "    Found existing installation: typing-extensions 4.1.1\n",
            "    Uninstalling typing-extensions-4.1.1:\n",
            "      Successfully uninstalled typing-extensions-4.1.1\n",
            "\u001b[31mERROR: pip's dependency resolver does not currently take into account all the packages that are installed. This behaviour is the source of the following dependency conflicts.\n",
            "thinc 8.1.5 requires typing-extensions<4.2.0,>=3.7.4.1; python_version < \"3.8\", but you have typing-extensions 4.4.0 which is incompatible.\n",
            "spacy 3.4.3 requires typing-extensions<4.2.0,>=3.7.4; python_version < \"3.8\", but you have typing-extensions 4.4.0 which is incompatible.\n",
            "confection 0.0.3 requires typing-extensions<4.2.0,>=3.7.4.1; python_version < \"3.8\", but you have typing-extensions 4.4.0 which is incompatible.\u001b[0m\n",
            "Successfully installed autograd-gamma-0.5.0 formulaic-0.5.2 graphlib-backport-1.0.3 interface-meta-1.3.0 lifelines-0.27.4 typing-extensions-4.4.0\n"
          ]
        }
      ]
    },
    {
      "cell_type": "markdown",
      "metadata": {
        "id": "xPRUPkbftLVp"
      },
      "source": [
        "### Objetivo\n",
        "\n",
        "Implementar el análisis de supervivencia a datos sobre prestamos, para esto veremos:\n",
        "  1. Estimador Kaplan Meier\n",
        "  2. Modelo de Cox\n",
        "  3. Mención de Survival Random Forest"
      ]
    },
    {
      "cell_type": "markdown",
      "metadata": {
        "id": "l29_eJOmtHPE"
      },
      "source": [
        "### Carga"
      ]
    },
    {
      "cell_type": "code",
      "metadata": {
        "id": "1u0mEeBqrYtf"
      },
      "source": [
        "import numpy as np \n",
        "import pandas as pd \n",
        "\n",
        "import matplotlib.pyplot as plt\n",
        "import seaborn as sns \n",
        "\n",
        "from lifelines import KaplanMeierFitter\n",
        "from lifelines import CoxPHFitter\n",
        "from lifelines.statistics import logrank_test"
      ],
      "execution_count": 2,
      "outputs": []
    },
    {
      "cell_type": "code",
      "metadata": {
        "id": "mjyP17VT0mwc",
        "colab": {
          "base_uri": "https://localhost:8080/"
        },
        "outputId": "82fe569e-b9f0-47cf-f56f-dfd56adfc83d"
      },
      "source": [
        "from google.colab import drive\n",
        "drive.mount('/content/drive') "
      ],
      "execution_count": 3,
      "outputs": [
        {
          "output_type": "stream",
          "name": "stdout",
          "text": [
            "Mounted at /content/drive\n"
          ]
        }
      ]
    },
    {
      "cell_type": "markdown",
      "source": [
        "Los datos de los prestamos pueden ser encontrados [aquí](https://www.kaggle.com/datasets/yousuf28/prosper-loan). La parte de las etiquetas fue obtenida [aquí](https://github.com/ketra21/prosperloan/blob/master/Prosper%20Loan%20Data%20-%20Variable%20Definitions.csv)."
      ],
      "metadata": {
        "id": "ERGc9jASFjsE"
      }
    },
    {
      "cell_type": "code",
      "metadata": {
        "id": "3_oi7Wes0vRL",
        "colab": {
          "base_uri": "https://localhost:8080/",
          "height": 328
        },
        "outputId": "7a3f5f47-42b5-461e-fb1c-1882ef669624"
      },
      "source": [
        "df = pd.read_csv('/content/drive/MyDrive/SCNN-curso/Working_Analyst_Survival_Analysis/prosperLoanData.csv')\n",
        "df_dict = pd.read_csv('/content/drive/MyDrive/SCNN-curso/Working_Analyst_Survival_Analysis/Prosper Loan Data - Variable Definitions.csv')"
      ],
      "execution_count": 4,
      "outputs": [
        {
          "output_type": "error",
          "ename": "FileNotFoundError",
          "evalue": "ignored",
          "traceback": [
            "\u001b[0;31m---------------------------------------------------------------------------\u001b[0m",
            "\u001b[0;31mFileNotFoundError\u001b[0m                         Traceback (most recent call last)",
            "\u001b[0;32m<ipython-input-4-9d038dd79f88>\u001b[0m in \u001b[0;36m<module>\u001b[0;34m\u001b[0m\n\u001b[0;32m----> 1\u001b[0;31m \u001b[0mdf\u001b[0m \u001b[0;34m=\u001b[0m \u001b[0mpd\u001b[0m\u001b[0;34m.\u001b[0m\u001b[0mread_csv\u001b[0m\u001b[0;34m(\u001b[0m\u001b[0;34m'/content/drive/MyDrive/SCNN-curso/Working_Analyst_Survival_Analysis/prosperLoanData.csv'\u001b[0m\u001b[0;34m)\u001b[0m\u001b[0;34m\u001b[0m\u001b[0;34m\u001b[0m\u001b[0m\n\u001b[0m\u001b[1;32m      2\u001b[0m \u001b[0mdf_dict\u001b[0m \u001b[0;34m=\u001b[0m \u001b[0mpd\u001b[0m\u001b[0;34m.\u001b[0m\u001b[0mread_csv\u001b[0m\u001b[0;34m(\u001b[0m\u001b[0;34m'/content/drive/MyDrive/SCNN-curso/Working_Analyst_Survival_Analysis/Prosper Loan Data - Variable Definitions.csv'\u001b[0m\u001b[0;34m)\u001b[0m\u001b[0;34m\u001b[0m\u001b[0;34m\u001b[0m\u001b[0m\n",
            "\u001b[0;32m/usr/local/lib/python3.7/dist-packages/pandas/util/_decorators.py\u001b[0m in \u001b[0;36mwrapper\u001b[0;34m(*args, **kwargs)\u001b[0m\n\u001b[1;32m    309\u001b[0m                     \u001b[0mstacklevel\u001b[0m\u001b[0;34m=\u001b[0m\u001b[0mstacklevel\u001b[0m\u001b[0;34m,\u001b[0m\u001b[0;34m\u001b[0m\u001b[0;34m\u001b[0m\u001b[0m\n\u001b[1;32m    310\u001b[0m                 )\n\u001b[0;32m--> 311\u001b[0;31m             \u001b[0;32mreturn\u001b[0m \u001b[0mfunc\u001b[0m\u001b[0;34m(\u001b[0m\u001b[0;34m*\u001b[0m\u001b[0margs\u001b[0m\u001b[0;34m,\u001b[0m \u001b[0;34m**\u001b[0m\u001b[0mkwargs\u001b[0m\u001b[0;34m)\u001b[0m\u001b[0;34m\u001b[0m\u001b[0;34m\u001b[0m\u001b[0m\n\u001b[0m\u001b[1;32m    312\u001b[0m \u001b[0;34m\u001b[0m\u001b[0m\n\u001b[1;32m    313\u001b[0m         \u001b[0;32mreturn\u001b[0m \u001b[0mwrapper\u001b[0m\u001b[0;34m\u001b[0m\u001b[0;34m\u001b[0m\u001b[0m\n",
            "\u001b[0;32m/usr/local/lib/python3.7/dist-packages/pandas/io/parsers/readers.py\u001b[0m in \u001b[0;36mread_csv\u001b[0;34m(filepath_or_buffer, sep, delimiter, header, names, index_col, usecols, squeeze, prefix, mangle_dupe_cols, dtype, engine, converters, true_values, false_values, skipinitialspace, skiprows, skipfooter, nrows, na_values, keep_default_na, na_filter, verbose, skip_blank_lines, parse_dates, infer_datetime_format, keep_date_col, date_parser, dayfirst, cache_dates, iterator, chunksize, compression, thousands, decimal, lineterminator, quotechar, quoting, doublequote, escapechar, comment, encoding, encoding_errors, dialect, error_bad_lines, warn_bad_lines, on_bad_lines, delim_whitespace, low_memory, memory_map, float_precision, storage_options)\u001b[0m\n\u001b[1;32m    584\u001b[0m     \u001b[0mkwds\u001b[0m\u001b[0;34m.\u001b[0m\u001b[0mupdate\u001b[0m\u001b[0;34m(\u001b[0m\u001b[0mkwds_defaults\u001b[0m\u001b[0;34m)\u001b[0m\u001b[0;34m\u001b[0m\u001b[0;34m\u001b[0m\u001b[0m\n\u001b[1;32m    585\u001b[0m \u001b[0;34m\u001b[0m\u001b[0m\n\u001b[0;32m--> 586\u001b[0;31m     \u001b[0;32mreturn\u001b[0m \u001b[0m_read\u001b[0m\u001b[0;34m(\u001b[0m\u001b[0mfilepath_or_buffer\u001b[0m\u001b[0;34m,\u001b[0m \u001b[0mkwds\u001b[0m\u001b[0;34m)\u001b[0m\u001b[0;34m\u001b[0m\u001b[0;34m\u001b[0m\u001b[0m\n\u001b[0m\u001b[1;32m    587\u001b[0m \u001b[0;34m\u001b[0m\u001b[0m\n\u001b[1;32m    588\u001b[0m \u001b[0;34m\u001b[0m\u001b[0m\n",
            "\u001b[0;32m/usr/local/lib/python3.7/dist-packages/pandas/io/parsers/readers.py\u001b[0m in \u001b[0;36m_read\u001b[0;34m(filepath_or_buffer, kwds)\u001b[0m\n\u001b[1;32m    480\u001b[0m \u001b[0;34m\u001b[0m\u001b[0m\n\u001b[1;32m    481\u001b[0m     \u001b[0;31m# Create the parser.\u001b[0m\u001b[0;34m\u001b[0m\u001b[0;34m\u001b[0m\u001b[0;34m\u001b[0m\u001b[0m\n\u001b[0;32m--> 482\u001b[0;31m     \u001b[0mparser\u001b[0m \u001b[0;34m=\u001b[0m \u001b[0mTextFileReader\u001b[0m\u001b[0;34m(\u001b[0m\u001b[0mfilepath_or_buffer\u001b[0m\u001b[0;34m,\u001b[0m \u001b[0;34m**\u001b[0m\u001b[0mkwds\u001b[0m\u001b[0;34m)\u001b[0m\u001b[0;34m\u001b[0m\u001b[0;34m\u001b[0m\u001b[0m\n\u001b[0m\u001b[1;32m    483\u001b[0m \u001b[0;34m\u001b[0m\u001b[0m\n\u001b[1;32m    484\u001b[0m     \u001b[0;32mif\u001b[0m \u001b[0mchunksize\u001b[0m \u001b[0;32mor\u001b[0m \u001b[0miterator\u001b[0m\u001b[0;34m:\u001b[0m\u001b[0;34m\u001b[0m\u001b[0;34m\u001b[0m\u001b[0m\n",
            "\u001b[0;32m/usr/local/lib/python3.7/dist-packages/pandas/io/parsers/readers.py\u001b[0m in \u001b[0;36m__init__\u001b[0;34m(self, f, engine, **kwds)\u001b[0m\n\u001b[1;32m    809\u001b[0m             \u001b[0mself\u001b[0m\u001b[0;34m.\u001b[0m\u001b[0moptions\u001b[0m\u001b[0;34m[\u001b[0m\u001b[0;34m\"has_index_names\"\u001b[0m\u001b[0;34m]\u001b[0m \u001b[0;34m=\u001b[0m \u001b[0mkwds\u001b[0m\u001b[0;34m[\u001b[0m\u001b[0;34m\"has_index_names\"\u001b[0m\u001b[0;34m]\u001b[0m\u001b[0;34m\u001b[0m\u001b[0;34m\u001b[0m\u001b[0m\n\u001b[1;32m    810\u001b[0m \u001b[0;34m\u001b[0m\u001b[0m\n\u001b[0;32m--> 811\u001b[0;31m         \u001b[0mself\u001b[0m\u001b[0;34m.\u001b[0m\u001b[0m_engine\u001b[0m \u001b[0;34m=\u001b[0m \u001b[0mself\u001b[0m\u001b[0;34m.\u001b[0m\u001b[0m_make_engine\u001b[0m\u001b[0;34m(\u001b[0m\u001b[0mself\u001b[0m\u001b[0;34m.\u001b[0m\u001b[0mengine\u001b[0m\u001b[0;34m)\u001b[0m\u001b[0;34m\u001b[0m\u001b[0;34m\u001b[0m\u001b[0m\n\u001b[0m\u001b[1;32m    812\u001b[0m \u001b[0;34m\u001b[0m\u001b[0m\n\u001b[1;32m    813\u001b[0m     \u001b[0;32mdef\u001b[0m \u001b[0mclose\u001b[0m\u001b[0;34m(\u001b[0m\u001b[0mself\u001b[0m\u001b[0;34m)\u001b[0m\u001b[0;34m:\u001b[0m\u001b[0;34m\u001b[0m\u001b[0;34m\u001b[0m\u001b[0m\n",
            "\u001b[0;32m/usr/local/lib/python3.7/dist-packages/pandas/io/parsers/readers.py\u001b[0m in \u001b[0;36m_make_engine\u001b[0;34m(self, engine)\u001b[0m\n\u001b[1;32m   1038\u001b[0m             )\n\u001b[1;32m   1039\u001b[0m         \u001b[0;31m# error: Too many arguments for \"ParserBase\"\u001b[0m\u001b[0;34m\u001b[0m\u001b[0;34m\u001b[0m\u001b[0;34m\u001b[0m\u001b[0m\n\u001b[0;32m-> 1040\u001b[0;31m         \u001b[0;32mreturn\u001b[0m \u001b[0mmapping\u001b[0m\u001b[0;34m[\u001b[0m\u001b[0mengine\u001b[0m\u001b[0;34m]\u001b[0m\u001b[0;34m(\u001b[0m\u001b[0mself\u001b[0m\u001b[0;34m.\u001b[0m\u001b[0mf\u001b[0m\u001b[0;34m,\u001b[0m \u001b[0;34m**\u001b[0m\u001b[0mself\u001b[0m\u001b[0;34m.\u001b[0m\u001b[0moptions\u001b[0m\u001b[0;34m)\u001b[0m  \u001b[0;31m# type: ignore[call-arg]\u001b[0m\u001b[0;34m\u001b[0m\u001b[0;34m\u001b[0m\u001b[0m\n\u001b[0m\u001b[1;32m   1041\u001b[0m \u001b[0;34m\u001b[0m\u001b[0m\n\u001b[1;32m   1042\u001b[0m     \u001b[0;32mdef\u001b[0m \u001b[0m_failover_to_python\u001b[0m\u001b[0;34m(\u001b[0m\u001b[0mself\u001b[0m\u001b[0;34m)\u001b[0m\u001b[0;34m:\u001b[0m\u001b[0;34m\u001b[0m\u001b[0;34m\u001b[0m\u001b[0m\n",
            "\u001b[0;32m/usr/local/lib/python3.7/dist-packages/pandas/io/parsers/c_parser_wrapper.py\u001b[0m in \u001b[0;36m__init__\u001b[0;34m(self, src, **kwds)\u001b[0m\n\u001b[1;32m     49\u001b[0m \u001b[0;34m\u001b[0m\u001b[0m\n\u001b[1;32m     50\u001b[0m         \u001b[0;31m# open handles\u001b[0m\u001b[0;34m\u001b[0m\u001b[0;34m\u001b[0m\u001b[0;34m\u001b[0m\u001b[0m\n\u001b[0;32m---> 51\u001b[0;31m         \u001b[0mself\u001b[0m\u001b[0;34m.\u001b[0m\u001b[0m_open_handles\u001b[0m\u001b[0;34m(\u001b[0m\u001b[0msrc\u001b[0m\u001b[0;34m,\u001b[0m \u001b[0mkwds\u001b[0m\u001b[0;34m)\u001b[0m\u001b[0;34m\u001b[0m\u001b[0;34m\u001b[0m\u001b[0m\n\u001b[0m\u001b[1;32m     52\u001b[0m         \u001b[0;32massert\u001b[0m \u001b[0mself\u001b[0m\u001b[0;34m.\u001b[0m\u001b[0mhandles\u001b[0m \u001b[0;32mis\u001b[0m \u001b[0;32mnot\u001b[0m \u001b[0;32mNone\u001b[0m\u001b[0;34m\u001b[0m\u001b[0;34m\u001b[0m\u001b[0m\n\u001b[1;32m     53\u001b[0m \u001b[0;34m\u001b[0m\u001b[0m\n",
            "\u001b[0;32m/usr/local/lib/python3.7/dist-packages/pandas/io/parsers/base_parser.py\u001b[0m in \u001b[0;36m_open_handles\u001b[0;34m(self, src, kwds)\u001b[0m\n\u001b[1;32m    227\u001b[0m             \u001b[0mmemory_map\u001b[0m\u001b[0;34m=\u001b[0m\u001b[0mkwds\u001b[0m\u001b[0;34m.\u001b[0m\u001b[0mget\u001b[0m\u001b[0;34m(\u001b[0m\u001b[0;34m\"memory_map\"\u001b[0m\u001b[0;34m,\u001b[0m \u001b[0;32mFalse\u001b[0m\u001b[0;34m)\u001b[0m\u001b[0;34m,\u001b[0m\u001b[0;34m\u001b[0m\u001b[0;34m\u001b[0m\u001b[0m\n\u001b[1;32m    228\u001b[0m             \u001b[0mstorage_options\u001b[0m\u001b[0;34m=\u001b[0m\u001b[0mkwds\u001b[0m\u001b[0;34m.\u001b[0m\u001b[0mget\u001b[0m\u001b[0;34m(\u001b[0m\u001b[0;34m\"storage_options\"\u001b[0m\u001b[0;34m,\u001b[0m \u001b[0;32mNone\u001b[0m\u001b[0;34m)\u001b[0m\u001b[0;34m,\u001b[0m\u001b[0;34m\u001b[0m\u001b[0;34m\u001b[0m\u001b[0m\n\u001b[0;32m--> 229\u001b[0;31m             \u001b[0merrors\u001b[0m\u001b[0;34m=\u001b[0m\u001b[0mkwds\u001b[0m\u001b[0;34m.\u001b[0m\u001b[0mget\u001b[0m\u001b[0;34m(\u001b[0m\u001b[0;34m\"encoding_errors\"\u001b[0m\u001b[0;34m,\u001b[0m \u001b[0;34m\"strict\"\u001b[0m\u001b[0;34m)\u001b[0m\u001b[0;34m,\u001b[0m\u001b[0;34m\u001b[0m\u001b[0;34m\u001b[0m\u001b[0m\n\u001b[0m\u001b[1;32m    230\u001b[0m         )\n\u001b[1;32m    231\u001b[0m \u001b[0;34m\u001b[0m\u001b[0m\n",
            "\u001b[0;32m/usr/local/lib/python3.7/dist-packages/pandas/io/common.py\u001b[0m in \u001b[0;36mget_handle\u001b[0;34m(path_or_buf, mode, encoding, compression, memory_map, is_text, errors, storage_options)\u001b[0m\n\u001b[1;32m    705\u001b[0m                 \u001b[0mencoding\u001b[0m\u001b[0;34m=\u001b[0m\u001b[0mioargs\u001b[0m\u001b[0;34m.\u001b[0m\u001b[0mencoding\u001b[0m\u001b[0;34m,\u001b[0m\u001b[0;34m\u001b[0m\u001b[0;34m\u001b[0m\u001b[0m\n\u001b[1;32m    706\u001b[0m                 \u001b[0merrors\u001b[0m\u001b[0;34m=\u001b[0m\u001b[0merrors\u001b[0m\u001b[0;34m,\u001b[0m\u001b[0;34m\u001b[0m\u001b[0;34m\u001b[0m\u001b[0m\n\u001b[0;32m--> 707\u001b[0;31m                 \u001b[0mnewline\u001b[0m\u001b[0;34m=\u001b[0m\u001b[0;34m\"\"\u001b[0m\u001b[0;34m,\u001b[0m\u001b[0;34m\u001b[0m\u001b[0;34m\u001b[0m\u001b[0m\n\u001b[0m\u001b[1;32m    708\u001b[0m             )\n\u001b[1;32m    709\u001b[0m         \u001b[0;32melse\u001b[0m\u001b[0;34m:\u001b[0m\u001b[0;34m\u001b[0m\u001b[0;34m\u001b[0m\u001b[0m\n",
            "\u001b[0;31mFileNotFoundError\u001b[0m: [Errno 2] No such file or directory: '/content/drive/MyDrive/SCNN-curso/Working_Analyst_Survival_Analysis/prosperLoanData.csv'"
          ]
        }
      ]
    },
    {
      "cell_type": "code",
      "metadata": {
        "id": "E6fmQrnH3FLD"
      },
      "source": [
        "df_dict"
      ],
      "execution_count": null,
      "outputs": []
    },
    {
      "cell_type": "code",
      "source": [
        "df_dict_reindex = df_dict.set_index('Variable')"
      ],
      "metadata": {
        "id": "6pvHN43UgHL8"
      },
      "execution_count": null,
      "outputs": []
    },
    {
      "cell_type": "code",
      "source": [
        "df_dict_reindex"
      ],
      "metadata": {
        "id": "rbI9FTPP3CYW"
      },
      "execution_count": null,
      "outputs": []
    },
    {
      "cell_type": "code",
      "metadata": {
        "id": "IkuQ6768185p"
      },
      "source": [
        "df.head()"
      ],
      "execution_count": null,
      "outputs": []
    },
    {
      "cell_type": "code",
      "metadata": {
        "id": "FKDsWC3y19wf"
      },
      "source": [
        "df.info()"
      ],
      "execution_count": null,
      "outputs": []
    },
    {
      "cell_type": "markdown",
      "metadata": {
        "id": "ERhpwl1O4dVO"
      },
      "source": [
        "#### Filtrando columnas"
      ]
    },
    {
      "cell_type": "code",
      "source": [
        "df_dict_reindex.loc[['LoanKey', 'ProsperRating (numeric)', 'EmploymentStatusDuration',\n",
        "                    'LoanOriginationDate', 'LoanStatus', 'EmploymentStatus',\n",
        "                    'ClosedDate', 'Occupation', 'BorrowerState', 'IsBorrowerHomeowner',\n",
        "                    'StatedMonthlyIncome', 'IncomeRange', 'LoanOriginalAmount'],:]"
      ],
      "metadata": {
        "id": "06HLudpdfejI"
      },
      "execution_count": null,
      "outputs": []
    },
    {
      "cell_type": "code",
      "metadata": {
        "id": "BVP3BCOr1-zA"
      },
      "source": [
        "df_sub = df.loc[:, ['LoanKey', 'ProsperRating (numeric)', 'EmploymentStatusDuration',\n",
        "                    'LoanOriginationDate', 'LoanStatus', 'EmploymentStatus',\n",
        "                    'ClosedDate', 'Occupation', 'BorrowerState', 'IsBorrowerHomeowner',\n",
        "                    'StatedMonthlyIncome', 'IncomeRange', 'LoanOriginalAmount']]\n",
        "df_sub.head()"
      ],
      "execution_count": null,
      "outputs": []
    },
    {
      "cell_type": "code",
      "metadata": {
        "id": "wOMHYSi6nznq"
      },
      "source": [
        "df_sub.info()"
      ],
      "execution_count": null,
      "outputs": []
    },
    {
      "cell_type": "code",
      "metadata": {
        "id": "-iCW83hbqw0R"
      },
      "source": [
        "df_sub['LoanOriginationDate'] = pd.to_datetime(df['LoanOriginationDate'])\n",
        "df_sub['ClosedDate'] = pd.to_datetime(df_sub['ClosedDate'], errors='ignore')"
      ],
      "execution_count": null,
      "outputs": []
    },
    {
      "cell_type": "code",
      "metadata": {
        "id": "q7mptpNDqJ7T"
      },
      "source": [
        "df_sub"
      ],
      "execution_count": null,
      "outputs": []
    },
    {
      "cell_type": "code",
      "metadata": {
        "id": "zQNMRRknq_5r"
      },
      "source": [
        "df_sub['LoanKey'].unique().shape"
      ],
      "execution_count": null,
      "outputs": []
    },
    {
      "cell_type": "code",
      "metadata": {
        "id": "Zi_9omJjudi8"
      },
      "source": [
        "df_sub = df_sub.drop_duplicates(subset='LoanKey').reset_index(drop=True)\n",
        "df_sub.shape"
      ],
      "execution_count": null,
      "outputs": []
    },
    {
      "cell_type": "markdown",
      "source": [
        "Revisando el rango máximo de tiempo e ingresos de usuarios"
      ],
      "metadata": {
        "id": "pVCQv9bov3eR"
      }
    },
    {
      "cell_type": "code",
      "metadata": {
        "id": "iJuGl9absvak"
      },
      "source": [
        "df_sub[['LoanOriginationDate', 'ClosedDate', 'StatedMonthlyIncome']].max()"
      ],
      "execution_count": null,
      "outputs": []
    },
    {
      "cell_type": "code",
      "metadata": {
        "id": "cwUeFEuGtdtz"
      },
      "source": [
        "df_sub[['LoanOriginationDate', 'ClosedDate', 'StatedMonthlyIncome']].min()"
      ],
      "execution_count": null,
      "outputs": []
    },
    {
      "cell_type": "markdown",
      "metadata": {
        "id": "Skhto2pU4iv-"
      },
      "source": [
        "#### Revisando la variable del evento -> LoanStatus"
      ]
    },
    {
      "cell_type": "code",
      "metadata": {
        "id": "XqCJD1st4vtq"
      },
      "source": [
        "df_sub.LoanStatus.unique()"
      ],
      "execution_count": null,
      "outputs": []
    },
    {
      "cell_type": "code",
      "metadata": {
        "id": "YsOptrr3u90c"
      },
      "source": [
        "df_status = df_sub[df_sub['LoanStatus'].isin([ 'Current', 'Chargedoff', 'Defaulted'])].copy()\n",
        "df_status.head()"
      ],
      "execution_count": null,
      "outputs": []
    },
    {
      "cell_type": "code",
      "metadata": {
        "id": "Yp8XWv_ub0JT"
      },
      "source": [
        "df_status.LoanStatus.unique()"
      ],
      "execution_count": null,
      "outputs": []
    },
    {
      "cell_type": "code",
      "metadata": {
        "id": "p6zF9L0M1Efh"
      },
      "source": [
        "df_status['LoanStatus_Censored'] = df_status['LoanStatus'].apply(lambda x: 0 if x == 'Current' else 1)"
      ],
      "execution_count": null,
      "outputs": []
    },
    {
      "cell_type": "code",
      "metadata": {
        "id": "T7ScgxnJb8aQ"
      },
      "source": [
        "df_status.head(10)"
      ],
      "execution_count": null,
      "outputs": []
    },
    {
      "cell_type": "code",
      "metadata": {
        "id": "0rqflg-tcCsw"
      },
      "source": [
        "max_date = df_status.ClosedDate.max()\n",
        "max_date"
      ],
      "execution_count": null,
      "outputs": []
    },
    {
      "cell_type": "markdown",
      "source": [
        "Vamos a arreglar los tiempos para los datos censurados"
      ],
      "metadata": {
        "id": "UjRqw1xB14DM"
      }
    },
    {
      "cell_type": "code",
      "metadata": {
        "id": "k_7y1RMucVgg"
      },
      "source": [
        "df_status.ClosedDate.fillna(max_date, inplace=True)"
      ],
      "execution_count": null,
      "outputs": []
    },
    {
      "cell_type": "code",
      "source": [
        "df_status"
      ],
      "metadata": {
        "id": "PZryNC8u2gW7"
      },
      "execution_count": null,
      "outputs": []
    },
    {
      "cell_type": "code",
      "metadata": {
        "id": "vFA6sBj7c2iJ"
      },
      "source": [
        "df_status['time'] = df_status['ClosedDate'] - df_status['LoanOriginationDate']"
      ],
      "execution_count": null,
      "outputs": []
    },
    {
      "cell_type": "code",
      "metadata": {
        "id": "Ygi1IVe9dj4_"
      },
      "source": [
        "df_status.head()"
      ],
      "execution_count": null,
      "outputs": []
    },
    {
      "cell_type": "markdown",
      "source": [
        "Veamos elementos que tiene problemas en la columna \"time\" (prestamos creados tarde)"
      ],
      "metadata": {
        "id": "dxQ0MHNCyAMj"
      }
    },
    {
      "cell_type": "code",
      "source": [
        "pd.to_timedelta(0, unit='D')"
      ],
      "metadata": {
        "id": "SNCGdXZLTMFj"
      },
      "execution_count": null,
      "outputs": []
    },
    {
      "cell_type": "code",
      "metadata": {
        "id": "kt8IpM2DeVqp"
      },
      "source": [
        "df_status[df_status['time'] < pd.to_timedelta(0, unit='D')]"
      ],
      "execution_count": null,
      "outputs": []
    },
    {
      "cell_type": "code",
      "metadata": {
        "id": "EHtBDLB9fgTp"
      },
      "source": [
        "df_status_clean = df_status[df_status['time'] > pd.to_timedelta(0, unit='D')].copy()\n",
        "df_status_clean.head()"
      ],
      "execution_count": null,
      "outputs": []
    },
    {
      "cell_type": "code",
      "metadata": {
        "id": "AEsdOpMN1cKo"
      },
      "source": [
        "df_status_clean['time'] = df_status_clean.time.dt.days"
      ],
      "execution_count": null,
      "outputs": []
    },
    {
      "cell_type": "code",
      "source": [
        "df_status_clean"
      ],
      "metadata": {
        "id": "cwgxuFic8yg5"
      },
      "execution_count": null,
      "outputs": []
    },
    {
      "cell_type": "code",
      "metadata": {
        "id": "0CWe6IvzuAt4"
      },
      "source": [
        "df_status_clean.LoanStatus_Censored.value_counts(normalize=True)"
      ],
      "execution_count": null,
      "outputs": []
    },
    {
      "cell_type": "markdown",
      "source": [
        "Recordemos: 0 son datos censurados"
      ],
      "metadata": {
        "id": "81tJHcCfVaXM"
      }
    },
    {
      "cell_type": "markdown",
      "metadata": {
        "id": "xTI80LYlxEuf"
      },
      "source": [
        "### Kaplan-Meier"
      ]
    },
    {
      "cell_type": "code",
      "source": [
        "df_status_clean[['time', 'LoanStatus_Censored']]"
      ],
      "metadata": {
        "id": "XxMdfT1V1Zo7"
      },
      "execution_count": null,
      "outputs": []
    },
    {
      "cell_type": "code",
      "metadata": {
        "id": "ofALO38ExIsn"
      },
      "source": [
        "T = df_status_clean.time\n",
        "E = df_status_clean.LoanStatus_Censored\n",
        "\n",
        "model = KaplanMeierFitter()\n",
        "\n",
        "model.fit(T, event_observed=E)\n",
        "\n",
        "function = model.survival_function_"
      ],
      "execution_count": null,
      "outputs": []
    },
    {
      "cell_type": "code",
      "metadata": {
        "id": "iObRXYeU0kP1"
      },
      "source": [
        "function.plot(title='Kaplan Meier Estimator')"
      ],
      "execution_count": null,
      "outputs": []
    },
    {
      "cell_type": "code",
      "metadata": {
        "id": "R37dAubT0m7o"
      },
      "source": [
        "model.median_survival_time_"
      ],
      "execution_count": null,
      "outputs": []
    },
    {
      "cell_type": "code",
      "metadata": {
        "id": "Bv2HOqGW39Qt"
      },
      "source": [
        "model.event_table"
      ],
      "execution_count": null,
      "outputs": []
    },
    {
      "cell_type": "code",
      "source": [
        "print(model.predict(1000))\n",
        "print(model.predict(775))"
      ],
      "metadata": {
        "id": "32V9Z_pJkWlS"
      },
      "execution_count": null,
      "outputs": []
    },
    {
      "cell_type": "code",
      "metadata": {
        "id": "eo20ecABKj0X"
      },
      "source": [
        "borrower = (df_status_clean['IsBorrowerHomeowner'] == True)\n",
        "\n",
        "T = df_status_clean.time\n",
        "E = df_status_clean.LoanStatus_Censored\n",
        "\n",
        "model = KaplanMeierFitter()\n",
        "\n",
        "model.fit(T[borrower], event_observed=E[borrower], label='Homeowner')\n",
        "fig_1 = model.survival_function_\n",
        "\n",
        "model.fit(T[~borrower], event_observed=E[~borrower], label='Not Homeowner')\n",
        "fig_2 = model.survival_function_\n",
        "\n",
        "\n",
        "figure = pd.concat([fig_1, fig_2], axis=1)\n",
        "figure.plot(backend='plotly')"
      ],
      "execution_count": null,
      "outputs": []
    },
    {
      "cell_type": "code",
      "metadata": {
        "id": "IIW8pRb87VoH"
      },
      "source": [
        "results = logrank_test(T[borrower], T[~borrower], event_observed_A=E[borrower],\n",
        "                       event_observed_B=E[~borrower])\n",
        "results.print_summary()"
      ],
      "execution_count": null,
      "outputs": []
    },
    {
      "cell_type": "markdown",
      "source": [
        "Entonces se puede rechaza la hipótesis nula de que las funciones de riesgo son iguales (por lo tanto tampoco sus funciones de *supervivencia*) "
      ],
      "metadata": {
        "id": "x3_qE1QOmRTK"
      }
    },
    {
      "cell_type": "markdown",
      "source": [
        "Es importante señalar que siempre se supone falla!!!"
      ],
      "metadata": {
        "id": "f5DAQHpq9LFz"
      }
    },
    {
      "cell_type": "code",
      "metadata": {
        "id": "WtWqFRgkOlFf"
      },
      "source": [
        "def survival(data, group_field, time_field, event_field):\n",
        "  \"\"\"\n",
        "  Funcion que recibe un DataFrame y filtra por columna\n",
        "\n",
        "  Returns\n",
        "    gráfica de la función de supervivencia (Survival function)\n",
        "    Logrank Test\n",
        "  \"\"\"\n",
        "\n",
        "  model = KaplanMeierFitter()\n",
        "  results = []\n",
        "  con_exp = []\n",
        "\n",
        "  for i in data[group_field].dropna().unique():\n",
        "    group = data[data[group_field] == i]\n",
        "    T = group[time_field]\n",
        "    E = group[event_field]\n",
        "    con_exp.append([T, E])\n",
        "    model.fit(T, E, label=str(i))\n",
        "    results.append(model.survival_function_)\n",
        "\n",
        "  survival = pd.concat(results, axis=1)\n",
        "  \n",
        "  \n",
        "  return survival\n"
      ],
      "execution_count": null,
      "outputs": []
    },
    {
      "cell_type": "code",
      "metadata": {
        "id": "Ob3yPBm43s2u"
      },
      "source": [
        "rates = survival(df_status_clean, 'Occupation', 'time', 'LoanStatus_Censored')\n",
        "rates.plot(kind='scatter', title='Pago completo dependiendo de su ocupación', \n",
        "           backend='plotly')"
      ],
      "execution_count": null,
      "outputs": []
    },
    {
      "cell_type": "code",
      "source": [
        "ocupation1 = (df_status_clean['Occupation'] == 'Computer Programmer')\n",
        "ocupation2 = (df_status_clean['Occupation'] == 'Professor')\n",
        "\n",
        "T = df_status_clean.time\n",
        "E = df_status_clean.LoanStatus_Censored\n",
        "\n",
        "model = KaplanMeierFitter()\n",
        "\n",
        "model.fit(T[ocupation1], event_observed=E[ocupation1], label='Computer Programmer')\n",
        "fig_1 = model.survival_function_\n",
        "\n",
        "model.fit(T[ocupation2], event_observed=E[ocupation2], label='Professor')\n",
        "fig_2 = model.survival_function_\n",
        "\n",
        "\n",
        "figure = pd.concat([fig_1, fig_2], axis=1)\n",
        "figure.plot(backend='plotly',kind='scatter')"
      ],
      "metadata": {
        "id": "px4wyF3sw7aS"
      },
      "execution_count": null,
      "outputs": []
    },
    {
      "cell_type": "code",
      "source": [
        "results = logrank_test(T[ocupation1], T[ocupation2], event_observed_A=E[ocupation1],\n",
        "                       event_observed_B=E[ocupation2])\n",
        "results.print_summary()"
      ],
      "metadata": {
        "id": "RwdH7q5lwNuQ"
      },
      "execution_count": null,
      "outputs": []
    },
    {
      "cell_type": "markdown",
      "metadata": {
        "id": "1GemcWxm9RFJ"
      },
      "source": [
        "### Cox Model (Segunda Sesión)"
      ]
    },
    {
      "cell_type": "code",
      "metadata": {
        "id": "f2z8PdQD9yfn"
      },
      "source": [
        "df_status_clean.head()"
      ],
      "execution_count": null,
      "outputs": []
    },
    {
      "cell_type": "code",
      "metadata": {
        "id": "PhrmufN4-KLd"
      },
      "source": [
        "to_model = df_status_clean[['LoanOriginalAmount', 'IsBorrowerHomeowner', 'StatedMonthlyIncome', \n",
        "                    'time', 'LoanStatus_Censored']]"
      ],
      "execution_count": null,
      "outputs": []
    },
    {
      "cell_type": "code",
      "metadata": {
        "id": "S6rw-Cii8n40"
      },
      "source": [
        "model = CoxPHFitter()\n",
        "model.fit(to_model, duration_col='time', event_col='LoanStatus_Censored')"
      ],
      "execution_count": null,
      "outputs": []
    },
    {
      "cell_type": "code",
      "metadata": {
        "id": "OhaZghG6Btik"
      },
      "source": [
        "model.print_summary()"
      ],
      "execution_count": null,
      "outputs": []
    },
    {
      "cell_type": "code",
      "metadata": {
        "id": "yY2qJPjWCUZQ"
      },
      "source": [
        "model.plot()"
      ],
      "execution_count": null,
      "outputs": []
    },
    {
      "cell_type": "code",
      "metadata": {
        "id": "NV2IoLhoCsjI"
      },
      "source": [
        "model.plot_partial_effects_on_outcome(covariates='LoanOriginalAmount',\n",
        "                                      values=[1000, 10000, \n",
        "                                              20000], cmap='coolwarm',\n",
        "                                      figsize=(15, 10))"
      ],
      "execution_count": null,
      "outputs": []
    },
    {
      "cell_type": "markdown",
      "source": [
        "baseline es $h_0(t)$"
      ],
      "metadata": {
        "id": "iUPr1b2L0pbE"
      }
    },
    {
      "cell_type": "markdown",
      "source": [
        "Prediciendo riesgos"
      ],
      "metadata": {
        "id": "OadrdQ3m_bBK"
      }
    },
    {
      "cell_type": "code",
      "source": [
        "to_model[:5]"
      ],
      "metadata": {
        "id": "7i6TVHUuywzr"
      },
      "execution_count": null,
      "outputs": []
    },
    {
      "cell_type": "code",
      "source": [
        "model.predict_partial_hazard(to_model[:5])"
      ],
      "metadata": {
        "id": "B07rXeRw-u_d"
      },
      "execution_count": null,
      "outputs": []
    },
    {
      "cell_type": "markdown",
      "metadata": {
        "id": "pVXNKxrbgido"
      },
      "source": [
        "### DF filter 2009\n"
      ]
    },
    {
      "cell_type": "code",
      "metadata": {
        "id": "HFj8bH2n-0hO"
      },
      "source": [
        "df_2009 = df_status_clean[df_status_clean['LoanOriginationDate'].dt.year == 2009].reset_index(drop=True)\n",
        "df_2009.head()"
      ],
      "execution_count": null,
      "outputs": []
    },
    {
      "cell_type": "code",
      "metadata": {
        "id": "Tm8T2p-5iya7"
      },
      "source": [
        "df_2009.info()"
      ],
      "execution_count": null,
      "outputs": []
    },
    {
      "cell_type": "code",
      "source": [
        "# Valores distintos en la columna\n",
        "df_2009.EmploymentStatus.unique()"
      ],
      "metadata": {
        "id": "2bhnkUp0MdPv"
      },
      "execution_count": null,
      "outputs": []
    },
    {
      "cell_type": "code",
      "source": [
        "df_2009[['EmploymentStatus']]"
      ],
      "metadata": {
        "id": "sFhY3ru8MyII"
      },
      "execution_count": null,
      "outputs": []
    },
    {
      "cell_type": "code",
      "metadata": {
        "id": "kTWHzua1ipQu"
      },
      "source": [
        "dummies = pd.get_dummies(df_2009[['EmploymentStatus']], drop_first=True)\n",
        "dummies"
      ],
      "execution_count": null,
      "outputs": []
    },
    {
      "cell_type": "code",
      "source": [
        "dummies.sum()"
      ],
      "metadata": {
        "id": "zHxlL-wtNKD-"
      },
      "execution_count": null,
      "outputs": []
    },
    {
      "cell_type": "code",
      "metadata": {
        "id": "oG9_626wkXhG"
      },
      "source": [
        "df_2009.IncomeRange.unique()"
      ],
      "execution_count": null,
      "outputs": []
    },
    {
      "cell_type": "code",
      "metadata": {
        "id": "zQyPC9ink0pX"
      },
      "source": [
        "def income_range_ordinal(label: str):\n",
        "  if label in ('$0', 'Not employed'):\n",
        "    return 0\n",
        "  elif label == '$1-24,999':\n",
        "    return 1\n",
        "  elif label == '$75,000-99,999':\n",
        "    return 2\n",
        "  elif label == '$25,000-49,999':\n",
        "    return 3\n",
        "  elif label == '$50,000-74,999':\n",
        "    return 4\n",
        "  else:\n",
        "    return 5"
      ],
      "execution_count": null,
      "outputs": []
    },
    {
      "cell_type": "code",
      "metadata": {
        "id": "HXXewlj_lXTf"
      },
      "source": [
        "df_2009['IncomeRange_ord'] = df_2009.IncomeRange.apply(income_range_ordinal)"
      ],
      "execution_count": null,
      "outputs": []
    },
    {
      "cell_type": "code",
      "metadata": {
        "id": "odpZCVG3lh1V"
      },
      "source": [
        "df_2009.head()"
      ],
      "execution_count": null,
      "outputs": []
    },
    {
      "cell_type": "code",
      "metadata": {
        "id": "UpaJK0QIlluO"
      },
      "source": [
        "df_2009_dumm = pd.concat([df_2009, dummies], axis=1)\n",
        "df_2009_dumm.head()"
      ],
      "execution_count": null,
      "outputs": []
    },
    {
      "cell_type": "code",
      "metadata": {
        "id": "KK9bBc0yl4G3"
      },
      "source": [
        "df_2009_num = df_2009_dumm._get_numeric_data()\n",
        "df_2009_num"
      ],
      "execution_count": null,
      "outputs": []
    },
    {
      "cell_type": "code",
      "metadata": {
        "id": "UdkBfrUemuGc"
      },
      "source": [
        "null_col = df_2009_num.isnull().sum()\n",
        "null_col[null_col > 0]"
      ],
      "execution_count": null,
      "outputs": []
    },
    {
      "cell_type": "code",
      "metadata": {
        "id": "oidjo3PNm4QU"
      },
      "source": [
        "df_2009_num.dropna(inplace=True)"
      ],
      "execution_count": null,
      "outputs": []
    },
    {
      "cell_type": "code",
      "metadata": {
        "id": "z-miRpYKognK"
      },
      "source": [
        "df_2009_num.info()"
      ],
      "execution_count": null,
      "outputs": []
    },
    {
      "cell_type": "code",
      "metadata": {
        "id": "WYCbuEZFpuq7"
      },
      "source": [
        "df_2009_num.columns.duplicated()"
      ],
      "execution_count": null,
      "outputs": []
    },
    {
      "cell_type": "code",
      "source": [
        "df_2009_num"
      ],
      "metadata": {
        "id": "4rpwz33rWeUG"
      },
      "execution_count": null,
      "outputs": []
    },
    {
      "cell_type": "markdown",
      "metadata": {
        "id": "tXoIyft8mQV2"
      },
      "source": [
        "### Cox Model 2009"
      ]
    },
    {
      "cell_type": "code",
      "metadata": {
        "id": "lNjlKTuUorEc"
      },
      "source": [
        "to_model = df_2009_num #.iloc[:, 0:10]"
      ],
      "execution_count": null,
      "outputs": []
    },
    {
      "cell_type": "code",
      "source": [
        "to_model"
      ],
      "metadata": {
        "id": "NCZdZ-i8zM0H"
      },
      "execution_count": null,
      "outputs": []
    },
    {
      "cell_type": "code",
      "metadata": {
        "id": "QMoGZLDbmG_G"
      },
      "source": [
        "model = CoxPHFitter()\n",
        "model.fit(to_model, duration_col='time', event_col='LoanStatus_Censored')\n",
        "\n",
        "model.print_summary()"
      ],
      "execution_count": null,
      "outputs": []
    },
    {
      "cell_type": "code",
      "metadata": {
        "id": "6XQue0wemrg_"
      },
      "source": [
        "model.plot()"
      ],
      "execution_count": null,
      "outputs": []
    },
    {
      "cell_type": "code",
      "source": [
        "model.baseline_cumulative_hazard_.plot()"
      ],
      "metadata": {
        "id": "zDB5x0NA-hLL"
      },
      "execution_count": null,
      "outputs": []
    },
    {
      "cell_type": "code",
      "source": [
        "model.baseline_survival_.plot()"
      ],
      "metadata": {
        "id": "oCY4KJit_cDR"
      },
      "execution_count": null,
      "outputs": []
    },
    {
      "cell_type": "code",
      "source": [
        "to_model[100:105]"
      ],
      "metadata": {
        "id": "IDGkpYNw7weN"
      },
      "execution_count": null,
      "outputs": []
    },
    {
      "cell_type": "code",
      "source": [
        "model.predict_partial_hazard(to_model[100:105])"
      ],
      "metadata": {
        "id": "dtG6Rsfx7kdt"
      },
      "execution_count": null,
      "outputs": []
    },
    {
      "cell_type": "markdown",
      "source": [
        "## Caso con estimador paramétrico"
      ],
      "metadata": {
        "id": "EKQAsMkuAlsU"
      }
    },
    {
      "cell_type": "code",
      "metadata": {
        "id": "mXuxFfhKq-I_"
      },
      "source": [
        "model = CoxPHFitter(baseline_estimation_method='spline', n_baseline_knots=6)\n",
        "model.fit(to_model, duration_col='time', event_col='LoanStatus_Censored')\n",
        "\n",
        "# model.print_summary()\n",
        "model.baseline_cumulative_hazard_.plot()"
      ],
      "execution_count": null,
      "outputs": []
    },
    {
      "cell_type": "code",
      "source": [
        "model.baseline_survival_.plot()"
      ],
      "metadata": {
        "id": "jXLV39yR__u2"
      },
      "execution_count": null,
      "outputs": []
    }
  ]
}